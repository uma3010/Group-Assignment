{
 "cells": [
  {
   "cell_type": "code",
   "execution_count": null,
   "metadata": {},
   "outputs": [],
   "source": [
    "import numpy as np\n",
    "import pandas as pd\n",
    "import matplotlib.pyplot as plt\n",
    "import seaborn as sns\n",
    "from datetime import date\n",
    "from datetime import time\n",
    "from datetime import datetime\n",
    "sns.set_style(\"whitegrid\")\n",
    "prevdata_df = pd.read_csv(\"C:/Users/umprasad/Desktop/EDA/previous_application.csv\")\n",
    "currdata_df = pd.read_csv(\"C:/Users/umprasad/Desktop/EDA/application_data.csv\")\n",
    "#dropping columns with more than 50% missing values\n",
    "thresh = len(appdata_df) * .5\n",
    "appdata_df.dropna(thresh = thresh, axis = 1, inplace = True)\n",
    "appdata_df.head(2)"
   ]
  }
 ],
 "metadata": {
  "kernelspec": {
   "display_name": "Python 3",
   "language": "python",
   "name": "python3"
  },
  "language_info": {
   "codemirror_mode": {
    "name": "ipython",
    "version": 3
   },
   "file_extension": ".py",
   "mimetype": "text/x-python",
   "name": "python",
   "nbconvert_exporter": "python",
   "pygments_lexer": "ipython3",
   "version": "3.7.1"
  }
 },
 "nbformat": 4,
 "nbformat_minor": 2
}
